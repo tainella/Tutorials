{
 "cells": [
  {
   "cell_type": "markdown",
   "id": "90a6eaea",
   "metadata": {},
   "source": [
    "### Установка"
   ]
  },
  {
   "cell_type": "code",
   "execution_count": 1,
   "id": "3641f086",
   "metadata": {
    "scrolled": true
   },
   "outputs": [
    {
     "name": "stdout",
     "output_type": "stream",
     "text": [
      "Collecting deeplake\n",
      "  Downloading deeplake-3.2.5.tar.gz (430 kB)\n",
      "\u001b[2K     \u001b[90m━━━━━━━━━━━━━━━━━━━━━━━━━━━━━━━━━━━━━━━\u001b[0m \u001b[32m430.1/430.1 kB\u001b[0m \u001b[31m2.6 MB/s\u001b[0m eta \u001b[36m0:00:00\u001b[0m00:01\u001b[0m00:01\u001b[0m\n",
      "\u001b[?25h  Preparing metadata (setup.py) ... \u001b[?25ldone\n",
      "\u001b[?25hRequirement already satisfied: numpy in /Users/tainella/opt/anaconda3/lib/python3.9/site-packages (from deeplake) (1.21.5)\n",
      "Requirement already satisfied: pillow in /Users/tainella/opt/anaconda3/lib/python3.9/site-packages (from deeplake) (9.0.1)\n",
      "Requirement already satisfied: boto3 in /Users/tainella/opt/anaconda3/lib/python3.9/site-packages (from deeplake) (1.16.63)\n",
      "Requirement already satisfied: click in /Users/tainella/opt/anaconda3/lib/python3.9/site-packages (from deeplake) (8.0.4)\n",
      "Collecting pathos\n",
      "  Downloading pathos-0.3.0-py3-none-any.whl (79 kB)\n",
      "\u001b[2K     \u001b[90m━━━━━━━━━━━━━━━━━━━━━━━━━━━━━━━━━━━━━━━━\u001b[0m \u001b[32m79.8/79.8 kB\u001b[0m \u001b[31m3.4 MB/s\u001b[0m eta \u001b[36m0:00:00\u001b[0m\n",
      "\u001b[?25hCollecting humbug>=0.2.6\n",
      "  Downloading humbug-0.2.7-py3-none-any.whl (11 kB)\n",
      "Requirement already satisfied: tqdm in /Users/tainella/opt/anaconda3/lib/python3.9/site-packages (from deeplake) (4.64.1)\n",
      "Collecting numcodecs\n",
      "  Downloading numcodecs-0.11.0.tar.gz (4.5 MB)\n",
      "\u001b[2K     \u001b[90m━━━━━━━━━━━━━━━━━━━━━━━━━━━━━━━━━━━━━━━━\u001b[0m \u001b[32m4.5/4.5 MB\u001b[0m \u001b[31m16.7 MB/s\u001b[0m eta \u001b[36m0:00:00\u001b[0m00:01\u001b[0m00:01\u001b[0m\n",
      "\u001b[?25h  Installing build dependencies ... \u001b[?25ldone\n",
      "\u001b[?25h  Getting requirements to build wheel ... \u001b[?25ldone\n",
      "\u001b[?25h  Installing backend dependencies ... \u001b[?25ldone\n",
      "\u001b[?25h  Preparing metadata (pyproject.toml) ... \u001b[?25ldone\n",
      "\u001b[?25hRequirement already satisfied: pyjwt in /Users/tainella/opt/anaconda3/lib/python3.9/site-packages (from deeplake) (2.4.0)\n",
      "Collecting hub>=2.8.7\n",
      "  Downloading hub-3.0.1-py3-none-any.whl (1.4 kB)\n",
      "Requirement already satisfied: requests in /Users/tainella/opt/anaconda3/lib/python3.9/site-packages (from humbug>=0.2.6->deeplake) (2.28.1)\n",
      "Requirement already satisfied: s3transfer<0.4.0,>=0.3.0 in /Users/tainella/opt/anaconda3/lib/python3.9/site-packages (from boto3->deeplake) (0.3.7)\n",
      "Requirement already satisfied: botocore<1.20.0,>=1.19.63 in /Users/tainella/opt/anaconda3/lib/python3.9/site-packages (from boto3->deeplake) (1.19.63)\n",
      "Requirement already satisfied: jmespath<1.0.0,>=0.7.1 in /Users/tainella/opt/anaconda3/lib/python3.9/site-packages (from boto3->deeplake) (0.10.0)\n",
      "Requirement already satisfied: entrypoints in /Users/tainella/opt/anaconda3/lib/python3.9/site-packages (from numcodecs->deeplake) (0.4)\n",
      "Collecting dill>=0.3.6\n",
      "  Downloading dill-0.3.6-py3-none-any.whl (110 kB)\n",
      "\u001b[2K     \u001b[90m━━━━━━━━━━━━━━━━━━━━━━━━━━━━━━━━━━━━━━━\u001b[0m \u001b[32m110.5/110.5 kB\u001b[0m \u001b[31m4.3 MB/s\u001b[0m eta \u001b[36m0:00:00\u001b[0m\n",
      "\u001b[?25hCollecting multiprocess>=0.70.14\n",
      "  Downloading multiprocess-0.70.14-py39-none-any.whl (132 kB)\n",
      "\u001b[2K     \u001b[90m━━━━━━━━━━━━━━━━━━━━━━━━━━━━━━━━━━━━━━━\u001b[0m \u001b[32m132.9/132.9 kB\u001b[0m \u001b[31m5.1 MB/s\u001b[0m eta \u001b[36m0:00:00\u001b[0m\n",
      "\u001b[?25hCollecting ppft>=1.7.6.6\n",
      "  Downloading ppft-1.7.6.6-py3-none-any.whl (52 kB)\n",
      "\u001b[2K     \u001b[90m━━━━━━━━━━━━━━━━━━━━━━━━━━━━━━━━━━━━━━━━\u001b[0m \u001b[32m52.8/52.8 kB\u001b[0m \u001b[31m1.7 MB/s\u001b[0m eta \u001b[36m0:00:00\u001b[0m\n",
      "\u001b[?25hCollecting pox>=0.3.2\n",
      "  Downloading pox-0.3.2-py3-none-any.whl (29 kB)\n",
      "Requirement already satisfied: urllib3<1.27,>=1.25.4 in /Users/tainella/opt/anaconda3/lib/python3.9/site-packages (from botocore<1.20.0,>=1.19.63->boto3->deeplake) (1.26.11)\n",
      "Requirement already satisfied: python-dateutil<3.0.0,>=2.1 in /Users/tainella/opt/anaconda3/lib/python3.9/site-packages (from botocore<1.20.0,>=1.19.63->boto3->deeplake) (2.8.2)\n",
      "Requirement already satisfied: charset-normalizer<3,>=2 in /Users/tainella/opt/anaconda3/lib/python3.9/site-packages (from requests->humbug>=0.2.6->deeplake) (2.0.4)\n",
      "Requirement already satisfied: idna<4,>=2.5 in /Users/tainella/opt/anaconda3/lib/python3.9/site-packages (from requests->humbug>=0.2.6->deeplake) (3.3)\n",
      "Requirement already satisfied: certifi>=2017.4.17 in /Users/tainella/opt/anaconda3/lib/python3.9/site-packages (from requests->humbug>=0.2.6->deeplake) (2022.9.24)\n",
      "Requirement already satisfied: six>=1.5 in /Users/tainella/opt/anaconda3/lib/python3.9/site-packages (from python-dateutil<3.0.0,>=2.1->botocore<1.20.0,>=1.19.63->boto3->deeplake) (1.16.0)\n",
      "Building wheels for collected packages: deeplake, numcodecs\n",
      "  Building wheel for deeplake (setup.py) ... \u001b[?25ldone\n",
      "\u001b[?25h  Created wheel for deeplake: filename=deeplake-3.2.5-py3-none-any.whl size=525171 sha256=10acc5c3a835d7947ca6809516415e8728e480eb8495b26544274af515b8b06b\n",
      "  Stored in directory: /Users/tainella/Library/Caches/pip/wheels/b6/bc/8f/a0e7ac310c73c45b3a06404699eae134caf3c1d3dd160b732a\n",
      "  Building wheel for numcodecs (pyproject.toml) ... \u001b[?25ldone\n",
      "\u001b[?25h  Created wheel for numcodecs: filename=numcodecs-0.11.0-cp39-cp39-macosx_11_0_arm64.whl size=1058046 sha256=83a1155440c5150ce8b097b72f99ca83a2ac09a357dc05de8592991ed89f551c\n",
      "  Stored in directory: /Users/tainella/Library/Caches/pip/wheels/07/9e/84/c00499670007f0e7aa6459f5c15bbc14c9f60f074aa12d792e\n",
      "Successfully built deeplake numcodecs\n",
      "Installing collected packages: ppft, pox, numcodecs, dill, multiprocess, humbug, pathos, hub, deeplake\n",
      "  Attempting uninstall: dill\n",
      "    Found existing installation: dill 0.3.4\n",
      "    Uninstalling dill-0.3.4:\n",
      "      Successfully uninstalled dill-0.3.4\n",
      "Successfully installed deeplake-3.2.5 dill-0.3.6 hub-3.0.1 humbug-0.2.7 multiprocess-0.70.14 numcodecs-0.11.0 pathos-0.3.0 pox-0.3.2 ppft-1.7.6.6\n"
     ]
    }
   ],
   "source": [
    "!pip3 install deeplake"
   ]
  },
  {
   "cell_type": "markdown",
   "id": "c71c0e94",
   "metadata": {},
   "source": [
    "## Создание своего датасета"
   ]
  },
  {
   "cell_type": "code",
   "execution_count": 41,
   "id": "56d7941f",
   "metadata": {},
   "outputs": [],
   "source": [
    "import os\n",
    "import numpy as np\n",
    "from PIL import Image\n",
    "\n",
    "import deeplake"
   ]
  },
  {
   "cell_type": "markdown",
   "id": "5481f08a",
   "metadata": {},
   "source": [
    "### Датасет для классификации изображений: FER-2013"
   ]
  },
  {
   "cell_type": "markdown",
   "id": "3c0fd361",
   "metadata": {},
   "source": [
    "Скачать урезанный датасет для демонстрации работы можно на https://wiki.ai-space.ru/display/AIS/DeepLake, файл fer2013.zip"
   ]
  },
  {
   "cell_type": "code",
   "execution_count": 24,
   "id": "475cfdd5",
   "metadata": {},
   "outputs": [],
   "source": [
    "# Найдем class_names и список файлов, которые необходимо загрузить\n",
    "dataset_folder = './fer2013/train'\n",
    "\n",
    "# Найти вложенные папки, но отфильтруйте дополнительные файлы,\n",
    "#такие как DS_Store, которые добавляются на Mac\n",
    "class_names = [item for item in os.listdir(dataset_folder) if os.path.isdir(os.path.join(dataset_folder, item))]"
   ]
  },
  {
   "cell_type": "code",
   "execution_count": 43,
   "id": "8c6eb19f",
   "metadata": {},
   "outputs": [
    {
     "name": "stdout",
     "output_type": "stream",
     "text": [
      "\u001b[34mangry\u001b[m\u001b[m    \u001b[34mdisgust\u001b[m\u001b[m  \u001b[34mfear\u001b[m\u001b[m     \u001b[34mhappy\u001b[m\u001b[m    \u001b[34mneutral\u001b[m\u001b[m  \u001b[34msad\u001b[m\u001b[m      \u001b[34msurprise\u001b[m\u001b[m\r\n"
     ]
    }
   ],
   "source": [
    "!ls ./fer2013/train"
   ]
  },
  {
   "cell_type": "code",
   "execution_count": 25,
   "id": "c4c89bb8",
   "metadata": {},
   "outputs": [
    {
     "name": "stdout",
     "output_type": "stream",
     "text": [
      "['happy', 'sad', 'fear', 'surprise', 'neutral', 'angry', 'disgust'] \n",
      "\n"
     ]
    }
   ],
   "source": [
    "print(class_names, '\\n')"
   ]
  },
  {
   "cell_type": "code",
   "execution_count": 33,
   "id": "317ae672",
   "metadata": {},
   "outputs": [],
   "source": [
    "#Создание пустого DeepLake-датасета. В аргументе - путь до папки на компьютере, куда помещается датасет\n",
    "ds = deeplake.empty('./deeplake_fer')"
   ]
  },
  {
   "cell_type": "markdown",
   "id": "18f0b200",
   "metadata": {},
   "source": [
    "Для добавления данных создаются тензоры, по которым разносят абстракции: сами данные, разметка, дополнительная информация. Для этого использовать команду 'ds.create_tensor'\n",
    "\n",
    "htype - тип данных, варианты доступны в документации. Необязателен, но рекомендуется для производительности\n",
    "\n",
    "sample_compression - расширение медиаданных"
   ]
  },
  {
   "cell_type": "code",
   "execution_count": 34,
   "id": "6e57a263",
   "metadata": {},
   "outputs": [],
   "source": [
    "#'with ds' ускоряет работу библиотеки, рекомендуется авторами\n",
    "\n",
    "with ds:\n",
    "    ds.create_tensor('images', htype = 'image', sample_compression = 'jpeg')\n",
    "    ds.create_tensor('labels', htype = 'class_label', class_names = class_names)\n",
    "\n",
    "    # Дополнительная информация по датасету или отдельному тензору\n",
    "    ds.info.update(description = 'My first Deep Lake dataset')\n",
    "    ds.images.info.update(camera_type = 'SLR')"
   ]
  },
  {
   "cell_type": "code",
   "execution_count": 37,
   "id": "238b18e2",
   "metadata": {},
   "outputs": [],
   "source": [
    "#Добавление данных в тензоры\n",
    "\n",
    "with ds:\n",
    "    for item in os.listdir(dataset_folder):\n",
    "        if os.path.isdir(os.path.join(dataset_folder, item)):\n",
    "            tmp_path = os.path.join(dataset_folder, item)\n",
    "            for file in os.listdir(tmp_path):\n",
    "                if \"jpg\" in file:\n",
    "                    label_text = item\n",
    "                    label_num = class_names.index(label_text)\n",
    "\n",
    "                    ds.append({'images': deeplake.read(os.path.join(tmp_path, file)), 'labels': np.uint32(label_num)})"
   ]
  },
  {
   "cell_type": "markdown",
   "id": "fb309d79",
   "metadata": {},
   "source": [
    "Проверка записи"
   ]
  },
  {
   "cell_type": "code",
   "execution_count": 39,
   "id": "b8adc97e",
   "metadata": {},
   "outputs": [
    {
     "name": "stdout",
     "output_type": "stream",
     "text": [
      "Dataset(path='./deeplake_fer', tensors=['images', 'labels'])\n",
      "\n",
      " tensor      htype        shape       dtype  compression\n",
      " -------    -------      -------     -------  ------- \n",
      " images      image     (21, 48, 48)   uint8    jpeg   \n",
      " labels   class_label    (21, 1)     uint32    None   \n"
     ]
    }
   ],
   "source": [
    "ds.summary()"
   ]
  },
  {
   "cell_type": "code",
   "execution_count": 42,
   "id": "0421cb44",
   "metadata": {},
   "outputs": [
    {
     "data": {
      "image/png": "[encoded data removed]",
      "text/plain": [
       "<PIL.Image.Image image mode=L size=48x48 at 0x137228460>"
      ]
     },
     "execution_count": 42,
     "metadata": {},
     "output_type": "execute_result"
    }
   ],
   "source": [
    "Image.fromarray(ds.images[4].numpy())"
   ]
  },
  {
   "cell_type": "markdown",
   "id": "c1789bca",
   "metadata": {},
   "source": [
    "### Датасет временного ряда"
   ]
  },
  {
   "cell_type": "markdown",
   "id": "a0b60c8d",
   "metadata": {},
   "source": [
    "Скачать урезанный датасет для демонстрации работы можно на https://wiki.ai-space.ru/display/AIS/DeepLake, файл sensor_data.zip\n",
    "\n",
    "Структура датасета:\n",
    "\n",
    "    |_subjects_into.csv\n",
    "    |_motion_data\n",
    "        |_walk\n",
    "            |_sub_1.csv\n",
    "            |_sub_2.csv\n",
    "            ...\n",
    "            ...\n",
    "        |_jog\n",
    "            |_sub_1.csv\n",
    "            |_sub_2.csv\n",
    "            ...\n",
    "            ..."
   ]
  },
  {
   "cell_type": "code",
   "execution_count": 57,
   "id": "62d71be3",
   "metadata": {},
   "outputs": [],
   "source": [
    "import pandas as pd\n",
    "from tqdm import tqdm\n",
    "import matplotlib.pyplot as plt"
   ]
  },
  {
   "cell_type": "code",
   "execution_count": 51,
   "id": "c7a22ae2",
   "metadata": {},
   "outputs": [],
   "source": [
    "ds = deeplake.empty('./sensor_data_deeplake')\n",
    "\n",
    "dataset_path= './sensor_data'\n",
    "subjects_info = pd.read_csv(os.path.join(dataset_path, 'subjects_info.csv'))\n",
    "\n",
    "fns_series = []\n",
    "for dirpath, dirnames, filenames in os.walk(os.path.join(dataset_path, 'motion_data')):\n",
    "    for filename in filenames:\n",
    "        fns_series.append(os.path.join(dirpath, filename))"
   ]
  },
  {
   "cell_type": "code",
   "execution_count": 52,
   "id": "b766e62a",
   "metadata": {},
   "outputs": [],
   "source": [
    "with ds:\n",
    "    #Инфо по датасету\n",
    "    ds.info.update(source = 'https://www.kaggle.com/malekzadeh/motionsense-dataset', \n",
    "                   notes = 'This is a small subset of the data in the source link')\n",
    "\n",
    "    #Создайте тензоры. Настройка chunk_compression необязательна, и по умолчанию она равна None\n",
    "    ds.create_tensor('acceleration_x', chunk_compression = 'lz4') \n",
    "    ds.create_tensor('acceleration_y', chunk_compression = 'lz4')\n",
    "    \n",
    "    #Сохраним частоту дискретизации в виде метаданных тензора. Или можно создать тензор \"время\".\n",
    "    ds.acceleration_x.info.update(sampling_rate_s = 0.1)\n",
    "    ds.acceleration_y.info.update(sampling_rate_s = 0.1)\n",
    "    \n",
    "    # Кодируем активность как текст\n",
    "    ds.create_tensor('activity', htype = 'text')\n",
    "    \n",
    "    # Или \"активность\" в виде числовых меток и преобразуем в текст с помощью class_names\n",
    "    # ds.create_tensor('activity', htype = 'class_label', class_names = ['xyz'])\n",
    "    \n",
    "    ds.create_group('subjects_info')\n",
    "    ds.subjects_info.create_tensor('age')\n",
    "    ds.subjects_info.create_tensor('weight')\n",
    "    ds.subjects_info.create_tensor('height')\n",
    "    \n",
    "    # Сохраним единицы веса в виде метаданных тензора\n",
    "    ds.subjects_info.weight.info.update(units = 'kg')\n",
    "    ds.subjects_info.height.info.update(units = 'cm')"
   ]
  },
  {
   "cell_type": "code",
   "execution_count": 55,
   "id": "179217a8",
   "metadata": {},
   "outputs": [
    {
     "name": "stderr",
     "output_type": "stream",
     "text": [
      "100%|██████████████████████████████████████████| 48/48 [00:00<00:00, 264.54it/s]\n"
     ]
    }
   ],
   "source": [
    "with ds:\n",
    "    for fn in tqdm(fns_series):\n",
    "        \n",
    "        # Прочитаем данные\n",
    "        df_data = pd.read_csv(fn)\n",
    "        \n",
    "        # Достаним тип активности\n",
    "        activity = os.path.basename(os.path.dirname(fn))\n",
    "        \n",
    "        subject_code = int(os.path.splitext(os.path.basename(fn))[0].split('_')[1])\n",
    "        subject_info = subjects_info[subjects_info['code']==subject_code]\n",
    "        \n",
    "        # Добавим в тензоры\n",
    "        ds.activity.append(activity)\n",
    "        ds.subjects_info.age.append(subject_info['age'].values)\n",
    "        ds.subjects_info.weight.append(subject_info['weight'].values)\n",
    "        ds.subjects_info.height.append(subject_info['height'].values)\n",
    "                \n",
    "        ds.acceleration_x.append(df_data['userAcceleration.x'].values)\n",
    "        ds.acceleration_y.append(df_data['userAcceleration.y'].values)"
   ]
  },
  {
   "cell_type": "code",
   "execution_count": 58,
   "id": "c8e82511",
   "metadata": {},
   "outputs": [
    {
     "data": {
      "image/png": "[encoded data removed]",
      "text/plain": [
       "<Figure size 800x500 with 1 Axes>"
      ]
     },
     "metadata": {},
     "output_type": "display_data"
    }
   ],
   "source": [
    "s_ind = 0\n",
    "t_ind = 100\n",
    "\n",
    "#Построим график ускорения x\n",
    "x_data = ds.acceleration_x[s_ind].numpy()[:t_ind]\n",
    "sampling_rate_x = ds.acceleration_x.info.sampling_rate_s\n",
    "\n",
    "plt.plot(np.arange(0, x_data.size)*sampling_rate_x, x_data, label='acceleration_x')\n",
    "\n",
    "#Построим график ускорения у\n",
    "y_data = ds.acceleration_y[s_ind].numpy()[:t_ind]\n",
    "sampling_rate_y = ds.acceleration_y.info.sampling_rate_s\n",
    "\n",
    "plt.plot(np.arange(0, y_data.size)*sampling_rate_y, y_data, label='acceleration_y')\n",
    "\n",
    "plt.legend()\n",
    "plt.xlabel('time [s]', fontweight = 'bold')\n",
    "plt.ylabel('acceleration [g]', fontweight = 'bold')\n",
    "plt.title('Weight: {} {}, Height: {} {}'.format(ds.subjects_info.weight[s_ind].numpy()[0],\n",
    "                                               ds.subjects_info.weight.info.units,\n",
    "                                               ds.subjects_info.height[s_ind].numpy()[0],\n",
    "                                               ds.subjects_info.height.info.units),\n",
    "         fontweight = 'bold')\n",
    "\n",
    "plt.xlim([0, 10])\n",
    "plt.grid()\n",
    "plt.gcf().set_size_inches(8, 5)\n",
    "plt.show()"
   ]
  },
  {
   "cell_type": "code",
   "execution_count": 59,
   "id": "95af5c95",
   "metadata": {},
   "outputs": [
    {
     "name": "stdout",
     "output_type": "stream",
     "text": [
      "Dataset(path='./sensor_data_deeplake', tensors=['acceleration_x', 'acceleration_y', 'activity', 'subjects_info/age', 'subjects_info/weight', 'subjects_info/height'])\n",
      "\n",
      "        tensor          htype       shape        dtype  compression\n",
      "       -------         -------     -------      -------  ------- \n",
      "    acceleration_x     generic  (48, 765:6305)   None     None   \n",
      "    acceleration_y     generic  (48, 765:6305)   None     None   \n",
      "       activity         text       (48, 1)        str     None   \n",
      "  subjects_info/age    generic     (48, 1)       int64    None   \n",
      " subjects_info/weight  generic     (48, 1)       int64    None   \n",
      " subjects_info/height  generic     (48, 1)       int64    None   \n"
     ]
    }
   ],
   "source": [
    "ds.summary()"
   ]
  },
  {
   "cell_type": "markdown",
   "id": "8cc460ea",
   "metadata": {},
   "source": [
    "## Загрузка датасета из папки"
   ]
  },
  {
   "cell_type": "code",
   "execution_count": 61,
   "id": "af3c64a9",
   "metadata": {},
   "outputs": [
    {
     "name": "stdout",
     "output_type": "stream",
     "text": [
      "./deeplake_fer loaded successfully.\n"
     ]
    }
   ],
   "source": [
    "ds = deeplake.load('./deeplake_fer')"
   ]
  },
  {
   "cell_type": "code",
   "execution_count": 63,
   "id": "330e8481",
   "metadata": {},
   "outputs": [
    {
     "data": {
      "image/png": "[encoded data removed]",
      "text/plain": [
       "<PIL.Image.Image image mode=L size=48x48 at 0x140379280>"
      ]
     },
     "execution_count": 63,
     "metadata": {},
     "output_type": "execute_result"
    }
   ],
   "source": [
    "Image.fromarray(ds.images[1].numpy())"
   ]
  },
  {
   "cell_type": "code",
   "execution_count": 64,
   "id": "45d18d64",
   "metadata": {
    "scrolled": false
   },
   "outputs": [
    {
     "name": "stdout",
     "output_type": "stream",
     "text": [
      "'giraffe' added to labels.info.class_names at index 7\n"
     ]
    }
   ],
   "source": [
    "#Обновление данных\n",
    "\n",
    "ds.images[1] = ds.images[3] #deeplake.read('https://i.postimg.cc/Yq2SNz9J/photo-1534567110243-8875d64ca8ff.jpg')\n",
    "ds.labels[1] = 'giraffe'"
   ]
  },
  {
   "cell_type": "code",
   "execution_count": 65,
   "id": "ef1c3d4d",
   "metadata": {},
   "outputs": [
    {
     "data": {
      "image/png": "[encoded data removed]",
      "text/plain": [
       "<PIL.Image.Image image mode=L size=48x48 at 0x14021CEE0>"
      ]
     },
     "execution_count": 65,
     "metadata": {},
     "output_type": "execute_result"
    }
   ],
   "source": [
    "Image.fromarray(ds.images[1].numpy())"
   ]
  }
 ],
 "metadata": {
  "kernelspec": {
   "display_name": "Python 3 (ipykernel)",
   "language": "python",
   "name": "python3"
  },
  "language_info": {
   "codemirror_mode": {
    "name": "ipython",
    "version": 3
   },
   "file_extension": ".py",
   "mimetype": "text/x-python",
   "name": "python",
   "nbconvert_exporter": "python",
   "pygments_lexer": "ipython3",
   "version": "3.9.13"
  }
 },
 "nbformat": 4,
 "nbformat_minor": 5
}
