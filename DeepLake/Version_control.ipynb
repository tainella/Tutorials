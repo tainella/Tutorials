{
 "cells": [
  {
   "cell_type": "markdown",
   "id": "d03436b7",
   "metadata": {},
   "source": [
    "## Контроль версий"
   ]
  },
  {
   "cell_type": "markdown",
   "id": "d5ed7395",
   "metadata": {},
   "source": [
    "Команды похожи на Git.\n",
    "\n",
    "Сначала давайте создадим набор данных Deep Lake в папке ./version_control_hub."
   ]
  },
  {
   "cell_type": "code",
   "execution_count": 1,
   "id": "bfb01919",
   "metadata": {},
   "outputs": [
    {
     "name": "stderr",
     "output_type": "stream",
     "text": [
      "/Users/tainella/opt/anaconda3/lib/python3.9/site-packages/deeplake/util/check_latest_version.py:32: UserWarning: A newer version of deeplake (3.2.8) is available. It's recommended that you update to the latest version using `pip install -U deeplake`.\n",
      "  warnings.warn(\n"
     ]
    }
   ],
   "source": [
    "import deeplake\n",
    "import numpy as np\n",
    "from PIL import Image"
   ]
  },
  {
   "cell_type": "code",
   "execution_count": 2,
   "id": "a9019994",
   "metadata": {},
   "outputs": [],
   "source": [
    "# Установим overwrite = True для возможности перезаписи\n",
    "ds = deeplake.dataset('./version_control_hub', overwrite = True)\n",
    "\n",
    "with ds:\n",
    "    ds.create_tensor('images', htype = 'image', sample_compression = 'jpeg')\n",
    "    ds.images.append(deeplake.read('./fer2013/train/fear/Training_136869.jpg'))"
   ]
  },
  {
   "cell_type": "code",
   "execution_count": 3,
   "id": "722f86ca",
   "metadata": {},
   "outputs": [
    {
     "data": {
      "image/png": "[encoded data removed]",
      "text/plain": [
       "<PIL.Image.Image image mode=L size=48x48 at 0x151CEB4F0>"
      ]
     },
     "execution_count": 3,
     "metadata": {},
     "output_type": "execute_result"
    }
   ],
   "source": [
    "Image.fromarray(ds.images[0].numpy())"
   ]
  },
  {
   "cell_type": "markdown",
   "id": "c22ba522",
   "metadata": {},
   "source": [
    "### Commit"
   ]
  },
  {
   "cell_type": "code",
   "execution_count": 4,
   "id": "152341f9",
   "metadata": {},
   "outputs": [
    {
     "name": "stdout",
     "output_type": "stream",
     "text": [
      "Dataset in commit firstdbf9474d461a19e9333c2fd19b46115348f has 1 samples\n"
     ]
    }
   ],
   "source": [
    "first_commit_id = ds.commit('Added image of fear')\n",
    "\n",
    "print('Dataset in commit {} has {} samples'.format(first_commit_id, len(ds)))"
   ]
  },
  {
   "cell_type": "code",
   "execution_count": 5,
   "id": "e2d33f34",
   "metadata": {},
   "outputs": [
    {
     "name": "stdout",
     "output_type": "stream",
     "text": [
      "Dataset in commit d5cd2c54ac44969ffbf138012a52c01e25a5c621 has 2 samples\n"
     ]
    }
   ],
   "source": [
    "with ds:\n",
    "    ds.images.append(deeplake.read('./fer2013/train/angry/Training_33331.jpg'))\n",
    "    \n",
    "second_commit_id = ds.commit('Added an image of anger')\n",
    "\n",
    "print('Dataset in commit {} has {} samples'.format(second_commit_id, len(ds)))"
   ]
  },
  {
   "cell_type": "code",
   "execution_count": 6,
   "id": "d5fc0975",
   "metadata": {},
   "outputs": [
    {
     "data": {
      "image/png": "[encoded data removed]",
      "text/plain": [
       "<PIL.Image.Image image mode=L size=48x48 at 0x151E08880>"
      ]
     },
     "execution_count": 6,
     "metadata": {},
     "output_type": "execute_result"
    }
   ],
   "source": [
    "Image.fromarray(ds.images[1].numpy())"
   ]
  },
  {
   "cell_type": "markdown",
   "id": "1049bdc0",
   "metadata": {},
   "source": [
    "### Log\n",
    "\n",
    "История коммитов"
   ]
  },
  {
   "cell_type": "code",
   "execution_count": 7,
   "id": "c729e840",
   "metadata": {},
   "outputs": [
    {
     "name": "stdout",
     "output_type": "stream",
     "text": [
      "---------------\n",
      "Deep Lake Version Log\n",
      "---------------\n",
      "\n",
      "Current Branch: main\n",
      "\n",
      "Commit : d5cd2c54ac44969ffbf138012a52c01e25a5c621 (main) \n",
      "Author : public\n",
      "Time   : 2023-02-15 18:43:20\n",
      "Message: Added an image of anger\n",
      "\n",
      "Commit : firstdbf9474d461a19e9333c2fd19b46115348f (main) \n",
      "Author : public\n",
      "Time   : 2023-02-15 18:41:16\n",
      "Message: Added image of fear\n",
      "\n"
     ]
    }
   ],
   "source": [
    "log = ds.log()"
   ]
  },
  {
   "cell_type": "markdown",
   "id": "1184e932",
   "metadata": {},
   "source": [
    "### Branch\n",
    "\n",
    "Ветвление создается командой ds.checkout с параметром create = True.\n",
    "\n",
    "Давайте создадим новую ветку angry_flipped, перевернем второе изображение (angry) и создадим новый коммит в этой ветке."
   ]
  },
  {
   "cell_type": "code",
   "execution_count": 12,
   "id": "86a16a37",
   "metadata": {
    "scrolled": true
   },
   "outputs": [],
   "source": [
    "ds.checkout('angry_flipped2', create = True)\n",
    "\n",
    "with ds:\n",
    "    ds.images[1] = np.transpose(ds.images[1], axes=[1, 0])\n",
    "\n",
    "flipped_commit_id = ds.commit('Flipped the angry image')"
   ]
  },
  {
   "cell_type": "code",
   "execution_count": 11,
   "id": "cb93b81a",
   "metadata": {},
   "outputs": [
    {
     "data": {
      "image/png": "[encoded data removed]",
      "text/plain": [
       "<PIL.Image.Image image mode=L size=48x48 at 0x151E4E5E0>"
      ]
     },
     "execution_count": 11,
     "metadata": {},
     "output_type": "execute_result"
    }
   ],
   "source": [
    "Image.fromarray(ds.images[1].numpy())"
   ]
  },
  {
   "cell_type": "code",
   "execution_count": 12,
   "id": "ac79f750",
   "metadata": {},
   "outputs": [
    {
     "name": "stdout",
     "output_type": "stream",
     "text": [
      "---------------\n",
      "Deep Lake Version Log\n",
      "---------------\n",
      "\n",
      "Current Branch: angry_flipped\n",
      "\n",
      "Commit : bb68c69cafd6b03c361acfe437f95d02ca3aeae5 (angry_flipped) \n",
      "Author : public\n",
      "Time   : 2023-02-15 18:49:44\n",
      "Message: Flipped the angry image\n",
      "\n",
      "Commit : d5cd2c54ac44969ffbf138012a52c01e25a5c621 (main) \n",
      "Author : public\n",
      "Time   : 2023-02-15 18:43:20\n",
      "Message: Added an image of anger\n",
      "\n",
      "Commit : firstdbf9474d461a19e9333c2fd19b46115348f (main) \n",
      "Author : public\n",
      "Time   : 2023-02-15 18:41:16\n",
      "Message: Added image of fear\n",
      "\n"
     ]
    }
   ],
   "source": [
    "ds.log()"
   ]
  },
  {
   "cell_type": "markdown",
   "id": "58cd2322",
   "metadata": {},
   "source": [
    "### Checkout\n",
    "\n",
    "Переключение веток"
   ]
  },
  {
   "cell_type": "code",
   "execution_count": 13,
   "id": "35df495e",
   "metadata": {},
   "outputs": [
    {
     "data": {
      "image/png": "[encoded data removed]",
      "text/plain": [
       "<PIL.Image.Image image mode=L size=48x48 at 0x1556C9A60>"
      ]
     },
     "execution_count": 13,
     "metadata": {},
     "output_type": "execute_result"
    }
   ],
   "source": [
    "ds.checkout('main')\n",
    "\n",
    "Image.fromarray(ds.images[1].numpy())"
   ]
  },
  {
   "cell_type": "markdown",
   "id": "f3a0aec3",
   "metadata": {},
   "source": [
    "### Diff\n",
    "\n",
    "Позволяет определять количество выборок, которые были добавлены, удалены или обновлены для каждого тензора. Функция может быть использована 3 способами:"
   ]
  },
  {
   "cell_type": "code",
   "execution_count": 14,
   "id": "c77150cf",
   "metadata": {},
   "outputs": [
    {
     "name": "stdout",
     "output_type": "stream",
     "text": [
      "\n",
      "## Deep Lake Diff\n",
      "------------------------------------------------------------------------------------------------------------------------\n",
      "\u001b[94mDiff in HEAD relative to the previous commit:\n",
      "\u001b[0m\n",
      "********************************************************************************\n",
      "\u001b[93mcommit UNCOMMITTED HEAD\u001b[0m\n",
      "Author: None\n",
      "Date: None\n",
      "Message: None\n",
      "\n",
      "No changes were made in this commit.\n",
      "------------------------------------------------------------------------------------------------------------------------\n"
     ]
    }
   ],
   "source": [
    "ds.diff() # Разница между текущим состоянием и последним commit"
   ]
  },
  {
   "cell_type": "code",
   "execution_count": 15,
   "id": "f0f6e942",
   "metadata": {},
   "outputs": [
    {
     "name": "stdout",
     "output_type": "stream",
     "text": [
      "\n",
      "## Deep Lake Diff\n",
      "The 2 diffs are calculated relative to the most recent common ancestor (firstdbf9474d461a19e9333c2fd19b46115348f) of the current state and the commit passed.\n",
      "------------------------------------------------------------------------------------------------------------------------\n",
      "\u001b[94mDiff in HEAD:\n",
      "\u001b[0m\n",
      "********************************************************************************\n",
      "\u001b[93mcommit UNCOMMITTED HEAD\u001b[0m\n",
      "Author: None\n",
      "Date: None\n",
      "Message: None\n",
      "\n",
      "No changes were made in this commit.\n",
      "********************************************************************************\n",
      "\u001b[93mcommit d5cd2c54ac44969ffbf138012a52c01e25a5c621\u001b[0m\n",
      "Author: public\n",
      "Date: 2023-02-15 18:43:20\n",
      "Message: Added an image of anger\n",
      "\n",
      "images\n",
      "* Added 1 sample: [1-2]\n",
      "\n",
      "------------------------------------------------------------------------------------------------------------------------\n",
      "\u001b[94mDiff in firstdbf9474d461a19e9333c2fd19b46115348f (target id):\n",
      "\u001b[0m\n",
      "No changes were made.\n",
      "\n",
      "------------------------------------------------------------------------------------------------------------------------\n"
     ]
    }
   ],
   "source": [
    "ds.diff(first_commit_id) # Разница между текущим состоянием и определенным commit"
   ]
  },
  {
   "cell_type": "code",
   "execution_count": 16,
   "id": "b9886326",
   "metadata": {},
   "outputs": [
    {
     "name": "stdout",
     "output_type": "stream",
     "text": [
      "\n",
      "## Deep Lake Diff\n",
      "The 2 diffs are calculated relative to the most recent common ancestor (firstdbf9474d461a19e9333c2fd19b46115348f) of the two commits passed.\n",
      "------------------------------------------------------------------------------------------------------------------------\n",
      "\u001b[94mDiff in d5cd2c54ac44969ffbf138012a52c01e25a5c621 (target id 1):\n",
      "\u001b[0m\n",
      "********************************************************************************\n",
      "\u001b[93mcommit d5cd2c54ac44969ffbf138012a52c01e25a5c621\u001b[0m\n",
      "Author: public\n",
      "Date: 2023-02-15 18:43:20\n",
      "Message: Added an image of anger\n",
      "\n",
      "images\n",
      "* Added 1 sample: [1-2]\n",
      "\n",
      "------------------------------------------------------------------------------------------------------------------------\n",
      "\u001b[94mDiff in firstdbf9474d461a19e9333c2fd19b46115348f (target id 2):\n",
      "\u001b[0m\n",
      "No changes were made.\n",
      "\n",
      "------------------------------------------------------------------------------------------------------------------------\n"
     ]
    }
   ],
   "source": [
    "ds.diff(second_commit_id, first_commit_id) # Разница между текущим двумя определенными commit"
   ]
  },
  {
   "cell_type": "markdown",
   "id": "787d6f5a",
   "metadata": {},
   "source": [
    "### HEAD Commit"
   ]
  },
  {
   "cell_type": "markdown",
   "id": "357323bf",
   "metadata": {},
   "source": [
    "В отличие от Git, система контроля версий Deep Lake не имеет промежуточной области, поскольку изменения в наборах данных не сохраняются локально до их фиксации. Все изменения автоматически отражаются в постоянном хранилище наборов данных (локальном или облачном). Таким образом, любые изменения в наборе данных автоматически сохраняются в фиксации HEAD в текущей ветви. Это означает, что незафиксированные изменения не отображаются в других ветвях. Давайте посмотрим, как это работает:\n",
    "В данный момент вы должны находиться на главной ветке, в которой есть 2 образца. Давайте добавим еще одно изображение:"
   ]
  },
  {
   "cell_type": "code",
   "execution_count": 2,
   "id": "e8aa1040",
   "metadata": {},
   "outputs": [
    {
     "name": "stdout",
     "output_type": "stream",
     "text": [
      "./version_control_hub loaded successfully.\n"
     ]
    }
   ],
   "source": [
    "ds = deeplake.load('./version_control_hub')"
   ]
  },
  {
   "cell_type": "code",
   "execution_count": 3,
   "id": "88f016f0",
   "metadata": {},
   "outputs": [
    {
     "name": "stdout",
     "output_type": "stream",
     "text": [
      "Dataset on main branch has 2 samples\n",
      "After updating, the HEAD commit on main branch has 3 samples\n"
     ]
    }
   ],
   "source": [
    "print('Dataset on {} branch has {} samples'.format('main', len(ds)))\n",
    "\n",
    "with ds:\n",
    "    ds.images.append(deeplake.read('./fer2013/train/sad/Training_26728.jpg'))\n",
    "    \n",
    "print('After updating, the HEAD commit on {} branch has {} samples'.format('main', len(ds)))"
   ]
  },
  {
   "cell_type": "code",
   "execution_count": 4,
   "id": "601f868b",
   "metadata": {},
   "outputs": [],
   "source": [
    "with ds:\n",
    "    ds.images.append(deeplake.read('./fer2013/train/angry/Training_63181.jpg'))"
   ]
  },
  {
   "cell_type": "markdown",
   "id": "2368ddae",
   "metadata": {},
   "source": [
    "Далее, если мы провериим ветвку angry_flipped, набор данных содержит 2 выборки, что соответствует количеству выборок с момента создания этой ветви. Следовательно, дополнительный незафиксированный третий образец, который был добавлен в основную ветвь выше, не отражается при извлечении других ветвей или коммитов."
   ]
  },
  {
   "cell_type": "code",
   "execution_count": 5,
   "id": "072795d1",
   "metadata": {},
   "outputs": [
    {
     "name": "stdout",
     "output_type": "stream",
     "text": [
      "Dataset in dog_flipped branch has 2 samples\n"
     ]
    }
   ],
   "source": [
    "ds.checkout('angry_flipped')\n",
    "\n",
    "print('Dataset in {} branch has {} samples'.format('dog_flipped', len(ds)))"
   ]
  },
  {
   "cell_type": "markdown",
   "id": "535ccb2b",
   "metadata": {},
   "source": [
    "При повторной проверке нашей основной ветки предыдущие незафиксированные изменения становятся видимыми, и они сохраняются в HEAD commit на main:"
   ]
  },
  {
   "cell_type": "code",
   "execution_count": 6,
   "id": "5491d7e6",
   "metadata": {},
   "outputs": [
    {
     "name": "stdout",
     "output_type": "stream",
     "text": [
      "Dataset in main branch has 4 samples\n"
     ]
    }
   ],
   "source": [
    "ds.checkout('main')\n",
    "\n",
    "print('Dataset in {} branch has {} samples'.format('main', len(ds)))"
   ]
  },
  {
   "cell_type": "markdown",
   "id": "6c2c7e78",
   "metadata": {},
   "source": [
    "#### Вы можете удалить любые незафиксированные изменения, используя приведенную ниже команду сброса, которая вернет основную ветвь в состояние с 2 образцами"
   ]
  },
  {
   "cell_type": "code",
   "execution_count": 7,
   "id": "d928d6b6",
   "metadata": {},
   "outputs": [],
   "source": [
    "ds.reset()"
   ]
  },
  {
   "cell_type": "code",
   "execution_count": 8,
   "id": "1b37a6d1",
   "metadata": {},
   "outputs": [
    {
     "name": "stdout",
     "output_type": "stream",
     "text": [
      "Dataset in main branch has 2 samples\n"
     ]
    }
   ],
   "source": [
    "print('Dataset in {} branch has {} samples'.format('main', len(ds)))"
   ]
  },
  {
   "cell_type": "markdown",
   "id": "a70cd7df",
   "metadata": {},
   "source": [
    "### Merge"
   ]
  },
  {
   "cell_type": "markdown",
   "id": "c5632a98",
   "metadata": {},
   "source": [
    "Слияние - важнейшая функция для совместной работы с наборами данных. Это позволяет вам изменять данные в отдельных ветвях, прежде чем сделать эти изменения доступными в основной ветви, что позволяет вам экспериментировать с вашими данными, не влияя на рабочие процессы других сотрудников.\n",
    "В настоящее время мы находимся на главной ветке, где изображение злости находится правой стороной вверх"
   ]
  },
  {
   "cell_type": "code",
   "execution_count": 13,
   "id": "f9cb090d",
   "metadata": {},
   "outputs": [
    {
     "name": "stdout",
     "output_type": "stream",
     "text": [
      "---------------\n",
      "Deep Lake Version Log\n",
      "---------------\n",
      "\n",
      "Current Branch: angry_flipped2\n",
      "\n",
      "Commit : 5793ca8454440bd30968dc7940321a34bc6cd237 (angry_flipped2) \n",
      "Author : public\n",
      "Time   : 2023-02-16 17:36:00\n",
      "Message: Flipped the angry image\n",
      "\n",
      "Commit : d5cd2c54ac44969ffbf138012a52c01e25a5c621 (main) \n",
      "Author : public\n",
      "Time   : 2023-02-15 18:43:20\n",
      "Message: Added an image of anger\n",
      "\n",
      "Commit : firstdbf9474d461a19e9333c2fd19b46115348f (main) \n",
      "Author : public\n",
      "Time   : 2023-02-15 18:41:16\n",
      "Message: Added image of fear\n",
      "\n"
     ]
    }
   ],
   "source": [
    "ds.log()"
   ]
  },
  {
   "cell_type": "code",
   "execution_count": 14,
   "id": "09f5c09e",
   "metadata": {},
   "outputs": [
    {
     "data": {
      "text/plain": [
       "'d5cd2c54ac44969ffbf138012a52c01e25a5c621'"
      ]
     },
     "execution_count": 14,
     "metadata": {},
     "output_type": "execute_result"
    }
   ],
   "source": [
    "ds.checkout('main')"
   ]
  },
  {
   "cell_type": "code",
   "execution_count": 15,
   "id": "f171e91c",
   "metadata": {},
   "outputs": [],
   "source": [
    "ds.merge('angry_flipped')"
   ]
  },
  {
   "cell_type": "code",
   "execution_count": 16,
   "id": "f94c9e64",
   "metadata": {},
   "outputs": [
    {
     "name": "stdout",
     "output_type": "stream",
     "text": [
      "---------------\n",
      "Deep Lake Version Log\n",
      "---------------\n",
      "\n",
      "Current Branch: main\n",
      "\n",
      "Commit : d5d84071751d3cff40cd99101aedf7ad2a5ec398 (main) \n",
      "Author : public\n",
      "Time   : 2023-02-16 17:37:29\n",
      "Message: Merge 5793ca8454440bd30968dc7940321a34bc6cd237 into main\n",
      "\n",
      "Commit : d5cd2c54ac44969ffbf138012a52c01e25a5c621 (main) \n",
      "Author : public\n",
      "Time   : 2023-02-15 18:43:20\n",
      "Message: Added an image of anger\n",
      "\n",
      "Commit : firstdbf9474d461a19e9333c2fd19b46115348f (main) \n",
      "Author : public\n",
      "Time   : 2023-02-15 18:41:16\n",
      "Message: Added image of fear\n",
      "\n"
     ]
    }
   ],
   "source": [
    "ds.log()"
   ]
  }
 ],
 "metadata": {
  "kernelspec": {
   "display_name": "Python 3 (ipykernel)",
   "language": "python",
   "name": "python3"
  },
  "language_info": {
   "codemirror_mode": {
    "name": "ipython",
    "version": 3
   },
   "file_extension": ".py",
   "mimetype": "text/x-python",
   "name": "python",
   "nbconvert_exporter": "python",
   "pygments_lexer": "ipython3",
   "version": "3.9.13"
  }
 },
 "nbformat": 4,
 "nbformat_minor": 5
}
