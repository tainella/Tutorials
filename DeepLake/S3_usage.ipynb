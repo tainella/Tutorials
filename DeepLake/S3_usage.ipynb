{
 "cells": [
  {
   "cell_type": "markdown",
   "id": "97668e18",
   "metadata": {},
   "source": [
    "# Работа с S3"
   ]
  },
  {
   "cell_type": "code",
   "execution_count": 2,
   "id": "85911c37",
   "metadata": {},
   "outputs": [
    {
     "name": "stderr",
     "output_type": "stream",
     "text": [
      "/Users/tainella/opt/anaconda3/lib/python3.9/site-packages/deeplake/util/check_latest_version.py:32: UserWarning: A newer version of deeplake (3.2.8) is available. It's recommended that you update to the latest version using `pip install -U deeplake`.\n",
      "  warnings.warn(\n"
     ]
    }
   ],
   "source": [
    "import deeplake\n",
    "import numpy as np\n",
    "\n",
    "from PIL import Image"
   ]
  },
  {
   "cell_type": "markdown",
   "id": "461ac6b3",
   "metadata": {},
   "source": [
    "## Загрузка уже существующего DeepLake датасета"
   ]
  },
  {
   "cell_type": "markdown",
   "id": "54b0c611",
   "metadata": {},
   "source": [
    "На S3 должна лежать папка именно с DeepLake датасетом"
   ]
  },
  {
   "cell_type": "code",
   "execution_count": 2,
   "id": "4df9c610",
   "metadata": {},
   "outputs": [
    {
     "ename": "DatasetHandlerError",
     "evalue": "A Deep Lake dataset does not exist at the given path (s3://test/fer2013). Check the path provided or in case you want to create a new dataset, use deeplake.empty().",
     "output_type": "error",
     "traceback": [
      "\u001b[0;31m---------------------------------------------------------------------------\u001b[0m",
      "\u001b[0;31mDatasetHandlerError\u001b[0m                       Traceback (most recent call last)",
      "Input \u001b[0;32mIn [2]\u001b[0m, in \u001b[0;36m<cell line: 1>\u001b[0;34m()\u001b[0m\n\u001b[0;32m----> 1\u001b[0m \u001b[43mdeeplake\u001b[49m\u001b[38;5;241;43m.\u001b[39;49m\u001b[43mload\u001b[49m\u001b[43m(\u001b[49m\u001b[38;5;124;43m'\u001b[39;49m\u001b[38;5;124;43ms3://test/fer2013\u001b[39;49m\u001b[38;5;124;43m'\u001b[39;49m\u001b[43m,\u001b[49m\u001b[43m \u001b[49m\u001b[43mcreds\u001b[49m\u001b[43m \u001b[49m\u001b[38;5;241;43m=\u001b[39;49m\u001b[43m \u001b[49m\u001b[43m{\u001b[49m\n\u001b[1;32m      2\u001b[0m \u001b[43m   \u001b[49m\u001b[38;5;124;43m'\u001b[39;49m\u001b[38;5;124;43maws_access_key_id\u001b[39;49m\u001b[38;5;124;43m'\u001b[39;49m\u001b[43m:\u001b[49m\u001b[43m \u001b[49m\u001b[38;5;124;43m'\u001b[39;49m\u001b[38;5;124;43mj17EcYUgBVIy11Xh\u001b[39;49m\u001b[38;5;124;43m'\u001b[39;49m\u001b[43m,\u001b[49m\u001b[43m \u001b[49m\n\u001b[1;32m      3\u001b[0m \u001b[43m   \u001b[49m\u001b[38;5;124;43m'\u001b[39;49m\u001b[38;5;124;43maws_secret_access_key\u001b[39;49m\u001b[38;5;124;43m'\u001b[39;49m\u001b[43m:\u001b[49m\u001b[43m \u001b[49m\u001b[38;5;124;43m'\u001b[39;49m\u001b[38;5;124;43mFXXf6iYMPOVXhEuco0CM9aqqzNIN7Xlk\u001b[39;49m\u001b[38;5;124;43m'\u001b[39;49m\u001b[43m,\u001b[49m\u001b[43m \u001b[49m\n\u001b[1;32m      4\u001b[0m \u001b[43m   \u001b[49m\u001b[38;5;66;43;03m#'aws_session_token': '123', # Optional\u001b[39;49;00m\n\u001b[1;32m      5\u001b[0m \u001b[43m   \u001b[49m\u001b[38;5;124;43m'\u001b[39;49m\u001b[38;5;124;43mendpoint_url\u001b[39;49m\u001b[38;5;124;43m'\u001b[39;49m\u001b[43m:\u001b[49m\u001b[43m \u001b[49m\u001b[38;5;124;43m'\u001b[39;49m\u001b[38;5;124;43mhttp://172.16.242.51\u001b[39;49m\u001b[38;5;124;43m'\u001b[39;49m\n\u001b[1;32m      6\u001b[0m \u001b[43m}\u001b[49m\u001b[43m)\u001b[49m\n",
      "File \u001b[0;32m~/opt/anaconda3/lib/python3.9/site-packages/deeplake/api/dataset.py:442\u001b[0m, in \u001b[0;36mdataset.load\u001b[0;34m(path, read_only, memory_cache_size, local_cache_size, creds, token, org_id, verbose, access_method)\u001b[0m\n\u001b[1;32m    440\u001b[0m     \u001b[38;5;28;01mraise\u001b[39;00m\n\u001b[1;32m    441\u001b[0m \u001b[38;5;28;01mif\u001b[39;00m \u001b[38;5;129;01mnot\u001b[39;00m dataset_exists(cache_chain):\n\u001b[0;32m--> 442\u001b[0m     \u001b[38;5;28;01mraise\u001b[39;00m DatasetHandlerError(\n\u001b[1;32m    443\u001b[0m         \u001b[38;5;124mf\u001b[39m\u001b[38;5;124m\"\u001b[39m\u001b[38;5;124mA Deep Lake dataset does not exist at the given path (\u001b[39m\u001b[38;5;132;01m{\u001b[39;00mpath\u001b[38;5;132;01m}\u001b[39;00m\u001b[38;5;124m). Check the path provided or in case you want to create a new dataset, use deeplake.empty().\u001b[39m\u001b[38;5;124m\"\u001b[39m\n\u001b[1;32m    444\u001b[0m     )\n\u001b[1;32m    446\u001b[0m \u001b[38;5;28;01mtry\u001b[39;00m:\n\u001b[1;32m    447\u001b[0m     \u001b[38;5;28;01mif\u001b[39;00m access_method \u001b[38;5;241m==\u001b[39m \u001b[38;5;124m\"\u001b[39m\u001b[38;5;124mstream\u001b[39m\u001b[38;5;124m\"\u001b[39m:\n",
      "\u001b[0;31mDatasetHandlerError\u001b[0m: A Deep Lake dataset does not exist at the given path (s3://test/fer2013). Check the path provided or in case you want to create a new dataset, use deeplake.empty()."
     ]
    }
   ],
   "source": [
    "deeplake.load('s3://test/fer2013', creds = {\n",
    "   'aws_access_key_id': 'abc', \n",
    "   'aws_secret_access_key': 'xyz', \n",
    "   #'aws_session_token': '123', # Optional\n",
    "   'endpoint_url': 'http://localhost:8888'\n",
    "})"
   ]
  },
  {
   "cell_type": "markdown",
   "id": "25a6c009",
   "metadata": {},
   "source": [
    "Теперь корректный датасет:"
   ]
  },
  {
   "cell_type": "code",
   "execution_count": 2,
   "id": "86a09016",
   "metadata": {},
   "outputs": [
    {
     "name": "stdout",
     "output_type": "stream",
     "text": [
      "s3://test/deeplake_fer/deeplake_fer loaded successfully.\n"
     ]
    }
   ],
   "source": [
    "ds = deeplake.load('s3://test/deeplake_fer/deeplake_fer', creds = {\n",
    "   'aws_access_key_id': 'abc', \n",
    "   'aws_secret_access_key': 'xyz', \n",
    "   #'aws_session_token': '123', # Optional\n",
    "   'endpoint_url': 'http://localhost:8888'\n",
    "})"
   ]
  },
  {
   "cell_type": "code",
   "execution_count": 3,
   "id": "c23642cc",
   "metadata": {},
   "outputs": [
    {
     "name": "stdout",
     "output_type": "stream",
     "text": [
      "Dataset(path='s3://test/deeplake_fer/deeplake_fer', tensors=['images', 'labels'])\n",
      "\n",
      " tensor      htype        shape       dtype  compression\n",
      " -------    -------      -------     -------  ------- \n",
      " images      image     (21, 48, 48)   uint8    jpeg   \n",
      " labels   class_label    (21, 1)     uint32    None   \n"
     ]
    }
   ],
   "source": [
    "ds.summary()"
   ]
  },
  {
   "cell_type": "markdown",
   "id": "449b21c4",
   "metadata": {},
   "source": [
    "### Обновление и синхронизация происходят одновременно"
   ]
  },
  {
   "cell_type": "code",
   "execution_count": 6,
   "id": "2206c4a4",
   "metadata": {},
   "outputs": [],
   "source": [
    "ds.append({'images': deeplake.read('./fer2013/train/neutral/Training_68386.jpg'), 'labels': np.uint32(4)})"
   ]
  },
  {
   "cell_type": "code",
   "execution_count": 8,
   "id": "c2752690",
   "metadata": {},
   "outputs": [
    {
     "data": {
      "text/plain": [
       "22"
      ]
     },
     "execution_count": 8,
     "metadata": {},
     "output_type": "execute_result"
    }
   ],
   "source": [
    "len(ds.images)"
   ]
  },
  {
   "cell_type": "markdown",
   "id": "022c83cd",
   "metadata": {},
   "source": [
    "Если еще раз подгрузим из хранилища, изменения будут сохранены"
   ]
  },
  {
   "cell_type": "code",
   "execution_count": 9,
   "id": "097d744b",
   "metadata": {},
   "outputs": [
    {
     "name": "stdout",
     "output_type": "stream",
     "text": [
      "s3://test/deeplake_fer/deeplake_fer loaded successfully.\n"
     ]
    }
   ],
   "source": [
    "ds = deeplake.load('s3://test/deeplake_fer/deeplake_fer', creds = {\n",
    "   'aws_access_key_id': 'abc', \n",
    "   'aws_secret_access_key': 'xyz', \n",
    "   #'aws_session_token': '123', # Optional\n",
    "   'endpoint_url': 'http://localhost:8888'\n",
    "})"
   ]
  },
  {
   "cell_type": "code",
   "execution_count": 10,
   "id": "d5478cd0",
   "metadata": {},
   "outputs": [
    {
     "data": {
      "text/plain": [
       "22"
      ]
     },
     "execution_count": 10,
     "metadata": {},
     "output_type": "execute_result"
    }
   ],
   "source": [
    "len(ds.images)"
   ]
  },
  {
   "cell_type": "markdown",
   "id": "b3aaa295",
   "metadata": {},
   "source": [
    "## Добавление DeepLake датасета в S3"
   ]
  },
  {
   "cell_type": "code",
   "execution_count": null,
   "id": "b8612299",
   "metadata": {},
   "outputs": [],
   "source": [
    "!s3cmd sync {local path to deeplake dataset}  s3://{bucket_name}/"
   ]
  },
  {
   "cell_type": "markdown",
   "id": "e3bc5864",
   "metadata": {},
   "source": [
    "## Обычный датасет из S3 -> DeepLake датасет в S3"
   ]
  },
  {
   "cell_type": "code",
   "execution_count": 9,
   "id": "0d3bd161",
   "metadata": {},
   "outputs": [],
   "source": [
    "#Создадим пустой DeepLake датасет на S3\n",
    "ds = deeplake.empty('s3://test/fer2013_deeplake', creds = {\n",
    "   'aws_access_key_id': 'abc', \n",
    "   'aws_secret_access_key': 'xyz', \n",
    "   #'aws_session_token': '123', # Optional\n",
    "   'endpoint_url': 'http://localhost:8888'\n",
    "})"
   ]
  },
  {
   "cell_type": "code",
   "execution_count": 11,
   "id": "983cfbbd",
   "metadata": {},
   "outputs": [],
   "source": [
    "class_names = ['angry', 'disgust', 'fear', 'happy', 'neutral', 'sad', 'surprise']"
   ]
  },
  {
   "cell_type": "code",
   "execution_count": 13,
   "id": "ab50444b",
   "metadata": {},
   "outputs": [],
   "source": [
    "with ds:\n",
    "    ds.create_tensor('images', htype = 'image', sample_compression = 'jpeg')\n",
    "    ds.create_tensor('labels', htype = 'class_label', class_names = class_names)\n",
    "\n",
    "    # Дополнительная информация по датасету или отдельному тензору\n",
    "    ds.info.update(description = 'S3 Dataset -> DeepLake S3 dataset')\n",
    "    ds.images.info.update(camera_type = 'SLR')"
   ]
  },
  {
   "cell_type": "markdown",
   "id": "33ec91a3",
   "metadata": {},
   "source": [
    "Можно напрямую считать из S3 данные, которые мы хотим добавить в DeepLake датасет"
   ]
  },
  {
   "cell_type": "code",
   "execution_count": 15,
   "id": "ae5a7c63",
   "metadata": {},
   "outputs": [],
   "source": [
    "with ds:\n",
    "    ds.images.append(deeplake.read('s3://test/fer2013/train/surprise/Training_8796.jpg', creds = {\n",
    "   'aws_access_key_id': 'abc', \n",
    "   'aws_secret_access_key': 'xyz', \n",
    "   #'aws_session_token': '123', # Optional\n",
    "   'endpoint_url': 'http://localhost:8888'\n",
    "}))"
   ]
  },
  {
   "cell_type": "code",
   "execution_count": 16,
   "id": "2945a80b",
   "metadata": {},
   "outputs": [
    {
     "data": {
      "image/png": "[encoded data removed]",
      "text/plain": [
       "<PIL.Image.Image image mode=L size=48x48 at 0x168A5D1F0>"
      ]
     },
     "execution_count": 16,
     "metadata": {},
     "output_type": "execute_result"
    }
   ],
   "source": [
    "Image.fromarray(ds.images[0].numpy())"
   ]
  },
  {
   "cell_type": "code",
   "execution_count": 18,
   "id": "ce4a8829",
   "metadata": {},
   "outputs": [],
   "source": [
    "ds.labels.append(np.uint32(5))"
   ]
  },
  {
   "cell_type": "markdown",
   "id": "e10a60c4",
   "metadata": {},
   "source": [
    "Пример полного парсинга датасета:"
   ]
  },
  {
   "cell_type": "code",
   "execution_count": 19,
   "id": "5898f1d7",
   "metadata": {
    "scrolled": false
   },
   "outputs": [
    {
     "name": "stdout",
     "output_type": "stream",
     "text": [
      "Requirement already satisfied: boto3 in /Users/tainella/opt/anaconda3/lib/python3.9/site-packages (1.16.63)\n",
      "Requirement already satisfied: botocore<1.20.0,>=1.19.63 in /Users/tainella/opt/anaconda3/lib/python3.9/site-packages (from boto3) (1.19.63)\n",
      "Requirement already satisfied: s3transfer<0.4.0,>=0.3.0 in /Users/tainella/opt/anaconda3/lib/python3.9/site-packages (from boto3) (0.3.7)\n",
      "Requirement already satisfied: jmespath<1.0.0,>=0.7.1 in /Users/tainella/opt/anaconda3/lib/python3.9/site-packages (from boto3) (0.10.0)\n",
      "Requirement already satisfied: python-dateutil<3.0.0,>=2.1 in /Users/tainella/opt/anaconda3/lib/python3.9/site-packages (from botocore<1.20.0,>=1.19.63->boto3) (2.8.2)\n",
      "Requirement already satisfied: urllib3<1.27,>=1.25.4 in /Users/tainella/opt/anaconda3/lib/python3.9/site-packages (from botocore<1.20.0,>=1.19.63->boto3) (1.26.11)\n",
      "Requirement already satisfied: six>=1.5 in /Users/tainella/opt/anaconda3/lib/python3.9/site-packages (from python-dateutil<3.0.0,>=2.1->botocore<1.20.0,>=1.19.63->boto3) (1.16.0)\n"
     ]
    }
   ],
   "source": [
    "!pip3 install boto3"
   ]
  },
  {
   "cell_type": "code",
   "execution_count": 41,
   "id": "c7e25820",
   "metadata": {},
   "outputs": [
    {
     "data": {
      "text/plain": [
       "1"
      ]
     },
     "execution_count": 41,
     "metadata": {},
     "output_type": "execute_result"
    }
   ],
   "source": [
    "len(ds)"
   ]
  },
  {
   "cell_type": "code",
   "execution_count": 20,
   "id": "419e942a",
   "metadata": {},
   "outputs": [],
   "source": [
    "import boto3"
   ]
  },
  {
   "cell_type": "code",
   "execution_count": 44,
   "id": "3b2a8a7d",
   "metadata": {},
   "outputs": [],
   "source": [
    "#Итерация по именам файлов в S3\n",
    "\n",
    "BUCKET = 'test'\n",
    "FOLDER = 'fer2013/train/'\n",
    "\n",
    "s3 = boto3.client('s3',\n",
    "                  aws_access_key_id='abc',\n",
    "                  aws_secret_access_key='xyz',\n",
    "                  endpoint_url='http://localhost:8888')\n",
    "paginator = s3.get_paginator('list_objects_v2')\n",
    "pages = paginator.paginate(Bucket=BUCKET, Prefix=FOLDER)\n",
    "\n",
    "with ds:\n",
    "    for page in pages:\n",
    "        for obj in page['Contents']:\n",
    "            filename = obj['Key']\n",
    "            label_text = filename.split('/')[2]\n",
    "            if label_text in class_names and filename.endswith(\".jpg\"):\n",
    "                label_num = class_names.index(label_text)\n",
    "\n",
    "                ds.append({'images': deeplake.read(f\"s3://{BUCKET}/\" + filename, creds = {\n",
    "                           'aws_access_key_id': 'abc', \n",
    "                           'aws_secret_access_key': 'xyz', \n",
    "                           #'aws_session_token': '123', # Optional\n",
    "                           'endpoint_url': 'http://localhost:8888'}),\n",
    "                           'labels': np.uint32(label_num)})"
   ]
  },
  {
   "cell_type": "code",
   "execution_count": 45,
   "id": "2066f104",
   "metadata": {},
   "outputs": [
    {
     "data": {
      "text/plain": [
       "22"
      ]
     },
     "execution_count": 45,
     "metadata": {},
     "output_type": "execute_result"
    }
   ],
   "source": [
    "len(ds)"
   ]
  }
 ],
 "metadata": {
  "kernelspec": {
   "display_name": "Python 3 (ipykernel)",
   "language": "python",
   "name": "python3"
  },
  "language_info": {
   "codemirror_mode": {
    "name": "ipython",
    "version": 3
   },
   "file_extension": ".py",
   "mimetype": "text/x-python",
   "name": "python",
   "nbconvert_exporter": "python",
   "pygments_lexer": "ipython3",
   "version": "3.9.13"
  }
 },
 "nbformat": 4,
 "nbformat_minor": 5
}
