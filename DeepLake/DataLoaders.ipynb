{
 "cells": [
  {
   "cell_type": "markdown",
   "id": "dd33bd99",
   "metadata": {},
   "source": [
    "## Работа с Dataloader, обучение моделей"
   ]
  },
  {
   "cell_type": "markdown",
   "id": "234802cd",
   "metadata": {},
   "source": [
    "Существует два способа, которые можно использовать для обучения моделей в Pytorch с использованием наборов данных Deep Lake:\n",
    "- Загрузчики данных Deep Lake. Высокооптимизированы и обеспечивают самую быструю потоковую передачу и перетасовку с использованием внутреннего метода перетасовки Deep Lake. Однако они не поддерживают пользовательскую выборку или полностью случайную перетасовку, которая возможна с помощью наборов данных Pitch datasets + загрузчиков данных.\n",
    "- Наборы данных Pytorch + загрузчики данных. Обеспечивают всю настраиваемость, поддерживаемую Pitch. Однако они имеют крайне неоптимальную потоковую передачу с использованием наборов данных Deep Lake и могут привести к снижению производительности в 5 раз по сравнению с использованием загрузчиков данных Deep Lake."
   ]
  },
  {
   "cell_type": "code",
   "execution_count": 2,
   "id": "5e06799b",
   "metadata": {},
   "outputs": [],
   "source": [
    "import deeplake\n",
    "from torchvision import datasets, transforms, models"
   ]
  },
  {
   "cell_type": "markdown",
   "id": "9067dd5a",
   "metadata": {},
   "source": [
    "### DeepLake DataLoaders"
   ]
  },
  {
   "cell_type": "code",
   "execution_count": 3,
   "id": "ff3be804",
   "metadata": {},
   "outputs": [
    {
     "name": "stdout",
     "output_type": "stream",
     "text": [
      "./deeplake_fer loaded successfully.\n"
     ]
    }
   ],
   "source": [
    "ds = deeplake.load(\"./deeplake_fer\")"
   ]
  },
  {
   "cell_type": "markdown",
   "id": "02b8a6a7",
   "metadata": {},
   "source": [
    "Самая быстрая потоковая передача данных на GPU с использованием Pitch достигается с помощью встроенного в Deep Lake загрузчика данных Pitch ds.pytorch(). Если обучение вашей модели очень чувствительно к рандомизации входных данных, пожалуйста, предварительно перетасуйте данные или ознакомьтесь с документацией о перетасовке в ds.pytorch()"
   ]
  },
  {
   "cell_type": "markdown",
   "id": "abb889f6",
   "metadata": {},
   "source": [
    "Параметр преобразования в ds.pytorch() представляет собой словарь, где ключом является имя тензора, а значением - функция преобразования, которая должна быть применена к этому тензору. Если данные конкретного тензора возвращать не требуется, их следует исключить из ключей. Если данные тензора не нуждаются в изменении во время предварительной обработки, функции преобразования присваивается значение None."
   ]
  },
  {
   "cell_type": "code",
   "execution_count": 20,
   "id": "9f2deabc",
   "metadata": {},
   "outputs": [],
   "source": [
    "#Первый вариант для простого преобразования данных \n",
    "\n",
    "tform = transforms.Compose([\n",
    "    transforms.ToPILImage(),\n",
    "    transforms.RandomRotation(20),\n",
    "    transforms.ToTensor(),\n",
    "    transforms.Normalize((0.5) ,(0.5)),\n",
    "])\n",
    "\n",
    "dataloader = ds.pytorch(batch_size = 16, num_workers = 2, transform = {'images': tform, 'labels': None}, shuffle = True)"
   ]
  },
  {
   "cell_type": "code",
   "execution_count": 21,
   "id": "5240a070",
   "metadata": {},
   "outputs": [],
   "source": [
    "#Второй вариант для сложного преобразования данных\n",
    "\n",
    "def transform(sample_in):\n",
    "    return {'images': tform(sample_in['images']), 'labels': sample_in['labels']}\n",
    "\n",
    "dataloader = ds.pytorch(batch_size = 16, num_workers = 2, transform = transform, shuffle = True)"
   ]
  },
  {
   "cell_type": "markdown",
   "id": "43c90188",
   "metadata": {},
   "source": [
    "### PyTorch Datasets + DataLoaders\n",
    "\n",
    "#### лучший вариант для полной кастомизации"
   ]
  },
  {
   "cell_type": "markdown",
   "id": "89688d3e",
   "metadata": {},
   "source": [
    "DeepLake-датасеты можно интегрировать в класс PyTorch Dataset, передав объект ds конструктору PyTorch Dataset и извлекая данные в методе __getitem__ с использованием self.ds.image[ids].numpy():"
   ]
  },
  {
   "cell_type": "code",
   "execution_count": 23,
   "id": "ecbd5876",
   "metadata": {},
   "outputs": [],
   "source": [
    "from torch.utils.data import DataLoader, Dataset\n",
    "\n",
    "class ClassificationDataset(Dataset):\n",
    "    def __init__(self, ds, transform = None):\n",
    "        self.ds = ds #!\n",
    "        self.transform = transform\n",
    "\n",
    "    def __len__(self):\n",
    "        return len(self.ds)\n",
    "    \n",
    "    def __getitem__(self, idx):\n",
    "        image = self.ds.images[idx].numpy() #!\n",
    "        label = self.ds.labels[idx].numpy(fetch_chunks = True).astype(np.int32)#!\n",
    "\n",
    "        if self.transform is not None:\n",
    "            image = self.transform(image)\n",
    "\n",
    "        sample = {\"images\": image, \"labels\": label}\n",
    "\n",
    "        return sample"
   ]
  },
  {
   "cell_type": "code",
   "execution_count": 24,
   "id": "3218f022",
   "metadata": {},
   "outputs": [],
   "source": [
    "dataset_pytorch = ClassificationDataset(ds, transform = tform)\n",
    "\n",
    "dataloader_pytorch = DataLoader(dataset_pytorch, batch_size = 16, num_workers = 2, shuffle = True)"
   ]
  },
  {
   "cell_type": "markdown",
   "id": "601026d9",
   "metadata": {},
   "source": [
    "### Tensorflow"
   ]
  },
  {
   "cell_type": "code",
   "execution_count": null,
   "id": "2a9785d9",
   "metadata": {},
   "outputs": [],
   "source": [
    "ds_tf = ds.tensorflow() # TensorFlow Dataset"
   ]
  },
  {
   "cell_type": "markdown",
   "id": "a8bb0beb",
   "metadata": {},
   "source": [
    "### Итерация и обучение"
   ]
  },
  {
   "cell_type": "code",
   "execution_count": 34,
   "id": "91a478a8",
   "metadata": {},
   "outputs": [],
   "source": [
    "import torch\n",
    "import time"
   ]
  },
  {
   "cell_type": "code",
   "execution_count": 25,
   "id": "ffe70e87",
   "metadata": {},
   "outputs": [
    {
     "name": "stderr",
     "output_type": "stream",
     "text": [
      "Please wait, filling up the shuffle buffer with samples.:   0%| | 47.6k/1.91G [0"
     ]
    },
    {
     "name": "stdout",
     "output_type": "stream",
     "text": [
      "Shuffle buffer filling is complete.\n",
      "{'images': tensor([[[[ 0.4902,  0.4980,  0.5059,  ...,  0.6784,  0.7176,  0.7961],\n",
      "          [ 0.4980,  0.4980,  0.5059,  ...,  0.7647,  0.6471,  0.8039],\n",
      "          [ 0.4980,  0.5059,  0.5059,  ...,  0.8745,  0.8431,  0.6314],\n",
      "          ...,\n",
      "          [-0.3882, -0.3569, -0.3490,  ..., -0.6000, -0.7882, -0.8431],\n",
      "          [-0.3725, -0.3412, -0.3255,  ..., -0.7412, -0.8118, -0.8431],\n",
      "          [-0.3412, -0.3098, -0.3098,  ..., -0.7647, -0.7882, -0.8275]]],\n",
      "\n",
      "\n",
      "        [[[-1.0000, -1.0000, -1.0000,  ..., -1.0000, -1.0000, -1.0000],\n",
      "          [-1.0000, -1.0000, -1.0000,  ..., -1.0000, -1.0000, -1.0000],\n",
      "          [-1.0000, -1.0000, -1.0000,  ..., -1.0000, -1.0000, -1.0000],\n",
      "          ...,\n",
      "          [-1.0000, -1.0000, -1.0000,  ..., -1.0000, -1.0000, -1.0000],\n",
      "          [-1.0000, -1.0000, -1.0000,  ..., -1.0000, -1.0000, -1.0000],\n",
      "          [-1.0000, -1.0000, -1.0000,  ..., -1.0000, -1.0000, -1.0000]]],\n",
      "\n",
      "\n",
      "        [[[-1.0000, -1.0000, -1.0000,  ..., -1.0000, -1.0000, -1.0000],\n",
      "          [-1.0000, -1.0000, -1.0000,  ..., -1.0000, -1.0000, -1.0000],\n",
      "          [-1.0000, -1.0000, -1.0000,  ..., -1.0000, -1.0000, -1.0000],\n",
      "          ...,\n",
      "          [-1.0000, -1.0000, -1.0000,  ..., -1.0000, -1.0000, -1.0000],\n",
      "          [-1.0000, -1.0000, -1.0000,  ..., -1.0000, -1.0000, -1.0000],\n",
      "          [-1.0000, -1.0000, -1.0000,  ..., -1.0000, -1.0000, -1.0000]]],\n",
      "\n",
      "\n",
      "        ...,\n",
      "\n",
      "\n",
      "        [[[-1.0000, -1.0000, -1.0000,  ..., -1.0000, -1.0000, -1.0000],\n",
      "          [-1.0000, -1.0000, -1.0000,  ..., -1.0000, -1.0000, -1.0000],\n",
      "          [-1.0000, -1.0000, -1.0000,  ..., -1.0000, -1.0000, -1.0000],\n",
      "          ...,\n",
      "          [-1.0000, -1.0000, -1.0000,  ..., -1.0000, -1.0000, -1.0000],\n",
      "          [-1.0000, -1.0000, -1.0000,  ..., -1.0000, -1.0000, -1.0000],\n",
      "          [-1.0000, -1.0000, -1.0000,  ..., -1.0000, -1.0000, -1.0000]]],\n",
      "\n",
      "\n",
      "        [[[-1.0000, -1.0000, -1.0000,  ..., -1.0000, -1.0000, -1.0000],\n",
      "          [-1.0000, -1.0000, -1.0000,  ..., -1.0000, -1.0000, -1.0000],\n",
      "          [-1.0000, -1.0000, -1.0000,  ..., -1.0000, -1.0000, -1.0000],\n",
      "          ...,\n",
      "          [-1.0000, -1.0000, -1.0000,  ..., -1.0000, -1.0000, -1.0000],\n",
      "          [-1.0000, -1.0000, -1.0000,  ..., -1.0000, -1.0000, -1.0000],\n",
      "          [-1.0000, -1.0000, -1.0000,  ..., -1.0000, -1.0000, -1.0000]]],\n",
      "\n",
      "\n",
      "        [[[-0.0510, -0.3098, -0.4039,  ..., -0.2863, -0.2863, -0.2627],\n",
      "          [-0.1608, -0.3490, -0.3804,  ..., -0.2863, -0.2941, -0.2706],\n",
      "          [-0.2941, -0.4118, -0.3569,  ..., -0.2863, -0.3020, -0.2863],\n",
      "          ...,\n",
      "          [ 0.6157,  0.6392,  0.6078,  ...,  0.6392,  0.5373,  0.4745],\n",
      "          [ 0.6235,  0.6000,  0.5608,  ...,  0.6000,  0.4980,  0.4353],\n",
      "          [ 0.6392,  0.5922,  0.6000,  ...,  0.5216,  0.4275,  0.3882]]]]), 'labels': tensor([[0],\n",
      "        [4],\n",
      "        [2],\n",
      "        [6],\n",
      "        [5],\n",
      "        [6],\n",
      "        [6],\n",
      "        [1],\n",
      "        [5],\n",
      "        [1],\n",
      "        [0],\n",
      "        [3],\n",
      "        [4],\n",
      "        [4],\n",
      "        [5],\n",
      "        [2]])}\n"
     ]
    },
    {
     "name": "stderr",
     "output_type": "stream",
     "text": [
      "\n"
     ]
    }
   ],
   "source": [
    "for data in dataloader:\n",
    "    print(data)    \n",
    "    break\n",
    "    \n",
    "    # Цикл обучения"
   ]
  },
  {
   "cell_type": "code",
   "execution_count": 28,
   "id": "4475d075",
   "metadata": {},
   "outputs": [
    {
     "name": "stdout",
     "output_type": "stream",
     "text": [
      "cpu\n"
     ]
    }
   ],
   "source": [
    "device = torch.device('cuda') if torch.cuda.is_available() else torch.device('cpu')\n",
    "print(device)"
   ]
  },
  {
   "cell_type": "code",
   "execution_count": 30,
   "id": "09b05584",
   "metadata": {},
   "outputs": [],
   "source": [
    "# Предобученная модель ResNet18\n",
    "model = models.resnet18(pretrained=True)\n",
    "\n",
    "# Конвертируем модель в ЧБ\n",
    "model.conv1 = torch.nn.Conv2d(1, 64, kernel_size=7, stride=2, padding=3, bias=False)\n",
    "\n",
    "# Изменим число классов\n",
    "model.fc = torch.nn.Linear(model.fc.in_features, len(ds.labels.info.class_names))\n",
    "\n",
    "model.to(device)\n",
    "\n",
    "criterion = torch.nn.CrossEntropyLoss()\n",
    "optimizer = torch.optim.SGD(model.parameters(), lr=0.001, momentum=0.1)"
   ]
  },
  {
   "cell_type": "code",
   "execution_count": 31,
   "id": "d39a42db",
   "metadata": {},
   "outputs": [],
   "source": [
    "def train_one_epoch(model, optimizer, data_loader, device):\n",
    "\n",
    "    model.train()\n",
    "\n",
    "    # Zero the performance stats for each epoch\n",
    "    running_loss = 0.0\n",
    "    start_time = time.time()\n",
    "    total = 0\n",
    "    correct = 0\n",
    "    \n",
    "    for i, data in enumerate(data_loader):\n",
    "        inputs = data['images']\n",
    "        labels = torch.squeeze(data['labels'])\n",
    "\n",
    "        inputs = inputs.to(device)\n",
    "        labels = labels.to(device)\n",
    "\n",
    "        optimizer.zero_grad()\n",
    "\n",
    "        outputs = model(inputs.float())\n",
    "        loss = criterion(outputs, labels)\n",
    "        loss.backward()\n",
    "        optimizer.step()\n",
    "        \n",
    "        _, predicted = torch.max(outputs.data, 1)\n",
    "        total += labels.size(0)\n",
    "        correct += (predicted == labels).sum().item()\n",
    "        accuracy = 100 * correct / total\n",
    "    \n",
    "        running_loss += loss.item()\n",
    "        if i % 10 == 0:    # print every 10 batches\n",
    "            batch_time = time.time()\n",
    "            speed = (i+1)/(batch_time-start_time)\n",
    "            print('[%5d] loss: %.3f, speed: %.2f, accuracy: %.2f %%' %\n",
    "                  (i, running_loss, speed, accuracy))\n",
    "\n",
    "            running_loss = 0.0\n",
    "            total = 0\n",
    "            correct = 0\n",
    "\n",
    "    \n",
    "def test_model(model, data_loader, device):\n",
    "\n",
    "    model.eval()\n",
    "\n",
    "    start_time = time.time()\n",
    "    total = 0\n",
    "    correct = 0\n",
    "    with torch.no_grad():\n",
    "        for i, data in enumerate(data_loader):\n",
    "            inputs = data['images']\n",
    "            labels = torch.squeeze(data['labels'])\n",
    "\n",
    "            inputs = inputs.to(device)\n",
    "            labels = labels.to(device)\n",
    "\n",
    "            optimizer.zero_grad()\n",
    "\n",
    "            outputs = model(inputs.float())\n",
    "\n",
    "            _, predicted = torch.max(outputs.data, 1)\n",
    "            total += labels.size(0)\n",
    "            correct += (predicted == labels).sum().item()\n",
    "        accuracy = 100 * correct / total\n",
    "            \n",
    "        print('Finished Testing')\n",
    "        print('Testing accuracy: %.1f %%' %(accuracy))"
   ]
  },
  {
   "cell_type": "code",
   "execution_count": 35,
   "id": "39791958",
   "metadata": {},
   "outputs": [
    {
     "name": "stdout",
     "output_type": "stream",
     "text": [
      "------------------ Training Epoch 1 ------------------\n"
     ]
    },
    {
     "name": "stderr",
     "output_type": "stream",
     "text": [
      "Please wait, filling up the shuffle buffer with samples.:   0%| | 0.00/1.91G [00[W ParallelNative.cpp:229] Warning: Cannot set number of intraop threads after parallel work has started or after set_num_threads call when using native parallel backend (function set_num_threads)\n",
      "[W ParallelNative.cpp:229] Warning: Cannot set number of intraop threads after parallel work has started or after set_num_threads call when using native parallel backend (function set_num_threads)\n",
      "Please wait, filling up the shuffle buffer with samples.:   0%| | 47.6k/1.91G [0"
     ]
    },
    {
     "name": "stdout",
     "output_type": "stream",
     "text": [
      "Shuffle buffer filling is complete.\n"
     ]
    },
    {
     "name": "stderr",
     "output_type": "stream",
     "text": [
      "\n"
     ]
    },
    {
     "name": "stdout",
     "output_type": "stream",
     "text": [
      "[    0] loss: 2.511, speed: 3.21, accuracy: 6.25 %\n"
     ]
    },
    {
     "name": "stderr",
     "output_type": "stream",
     "text": [
      "Please wait, filling up the shuffle buffer with samples.:   0%| | 0.00/1.91G [00[W ParallelNative.cpp:229] Warning: Cannot set number of intraop threads after parallel work has started or after set_num_threads call when using native parallel backend (function set_num_threads)\n",
      "[W ParallelNative.cpp:229] Warning: Cannot set number of intraop threads after parallel work has started or after set_num_threads call when using native parallel backend (function set_num_threads)\n",
      "Please wait, filling up the shuffle buffer with samples.:   0%| | 47.6k/1.91G [0"
     ]
    },
    {
     "name": "stdout",
     "output_type": "stream",
     "text": [
      "Shuffle buffer filling is complete.\n"
     ]
    },
    {
     "name": "stderr",
     "output_type": "stream",
     "text": [
      "\n"
     ]
    },
    {
     "name": "stdout",
     "output_type": "stream",
     "text": [
      "Finished Testing\n",
      "Testing accuracy: 9.5 %\n",
      "------------------ Training Epoch 2 ------------------\n"
     ]
    },
    {
     "name": "stderr",
     "output_type": "stream",
     "text": [
      "Please wait, filling up the shuffle buffer with samples.:   0%| | 0.00/1.91G [00[W ParallelNative.cpp:229] Warning: Cannot set number of intraop threads after parallel work has started or after set_num_threads call when using native parallel backend (function set_num_threads)\n",
      "[W ParallelNative.cpp:229] Warning: Cannot set number of intraop threads after parallel work has started or after set_num_threads call when using native parallel backend (function set_num_threads)\n",
      "Please wait, filling up the shuffle buffer with samples.:   0%| | 47.6k/1.91G [0\n"
     ]
    },
    {
     "name": "stdout",
     "output_type": "stream",
     "text": [
      "Shuffle buffer filling is complete.\n",
      "[    0] loss: 2.197, speed: 3.61, accuracy: 0.00 %\n"
     ]
    },
    {
     "name": "stderr",
     "output_type": "stream",
     "text": [
      "Please wait, filling up the shuffle buffer with samples.:   0%| | 0.00/1.91G [00[W ParallelNative.cpp:229] Warning: Cannot set number of intraop threads after parallel work has started or after set_num_threads call when using native parallel backend (function set_num_threads)\n",
      "[W ParallelNative.cpp:229] Warning: Cannot set number of intraop threads after parallel work has started or after set_num_threads call when using native parallel backend (function set_num_threads)\n",
      "Please wait, filling up the shuffle buffer with samples.:   0%| | 47.6k/1.91G [0"
     ]
    },
    {
     "name": "stdout",
     "output_type": "stream",
     "text": [
      "Shuffle buffer filling is complete.\n"
     ]
    },
    {
     "name": "stderr",
     "output_type": "stream",
     "text": [
      "\n"
     ]
    },
    {
     "name": "stdout",
     "output_type": "stream",
     "text": [
      "Finished Testing\n",
      "Testing accuracy: 9.5 %\n",
      "------------------ Training Epoch 3 ------------------\n"
     ]
    },
    {
     "name": "stderr",
     "output_type": "stream",
     "text": [
      "Please wait, filling up the shuffle buffer with samples.:   0%| | 0.00/1.91G [00[W ParallelNative.cpp:229] Warning: Cannot set number of intraop threads after parallel work has started or after set_num_threads call when using native parallel backend (function set_num_threads)\n",
      "[W ParallelNative.cpp:229] Warning: Cannot set number of intraop threads after parallel work has started or after set_num_threads call when using native parallel backend (function set_num_threads)\n",
      "Please wait, filling up the shuffle buffer with samples.:   0%| | 47.6k/1.91G [0\n"
     ]
    },
    {
     "name": "stdout",
     "output_type": "stream",
     "text": [
      "Shuffle buffer filling is complete.\n",
      "[    0] loss: 2.139, speed: 3.72, accuracy: 18.75 %\n"
     ]
    },
    {
     "name": "stderr",
     "output_type": "stream",
     "text": [
      "Please wait, filling up the shuffle buffer with samples.:   0%| | 0.00/1.91G [00[W ParallelNative.cpp:229] Warning: Cannot set number of intraop threads after parallel work has started or after set_num_threads call when using native parallel backend (function set_num_threads)\n",
      "[W ParallelNative.cpp:229] Warning: Cannot set number of intraop threads after parallel work has started or after set_num_threads call when using native parallel backend (function set_num_threads)\n",
      "Please wait, filling up the shuffle buffer with samples.:   0%| | 47.6k/1.91G [0"
     ]
    },
    {
     "name": "stdout",
     "output_type": "stream",
     "text": [
      "Shuffle buffer filling is complete.\n",
      "Finished Testing\n",
      "Testing accuracy: 19.0 %\n",
      "Finished Training\n"
     ]
    },
    {
     "name": "stderr",
     "output_type": "stream",
     "text": [
      "\n"
     ]
    }
   ],
   "source": [
    "num_epochs = 3\n",
    "for epoch in range(num_epochs):  # loop over the dataset multiple times\n",
    "    print(\"------------------ Training Epoch {} ------------------\".format(epoch+1))\n",
    "    train_one_epoch(model, optimizer, dataloader, device)\n",
    "\n",
    "    test_model(model, dataloader, device)\n",
    "  \n",
    "print('Finished Training')"
   ]
  },
  {
   "cell_type": "code",
   "execution_count": null,
   "id": "338ce5d9",
   "metadata": {},
   "outputs": [],
   "source": []
  }
 ],
 "metadata": {
  "kernelspec": {
   "display_name": "Python 3 (ipykernel)",
   "language": "python",
   "name": "python3"
  },
  "language_info": {
   "codemirror_mode": {
    "name": "ipython",
    "version": 3
   },
   "file_extension": ".py",
   "mimetype": "text/x-python",
   "name": "python",
   "nbconvert_exporter": "python",
   "pygments_lexer": "ipython3",
   "version": "3.9.13"
  }
 },
 "nbformat": 4,
 "nbformat_minor": 5
}
