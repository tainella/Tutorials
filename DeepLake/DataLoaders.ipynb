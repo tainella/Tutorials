{
 "cells": [
  {
   "cell_type": "markdown",
   "id": "7b004c57",
   "metadata": {},
   "source": [
    "## Работа с Dataloader, обучение моделей"
   ]
  },
  {
   "cell_type": "markdown",
   "id": "f951fb8c",
   "metadata": {},
   "source": [
    "Существует два способа, которые можно использовать для обучения моделей в Pytorch с использованием наборов данных Deep Lake:\n",
    "- Загрузчики данных Deep Lake. Высокооптимизированы и обеспечивают самую быструю потоковую передачу и перетасовку с использованием внутреннего метода перетасовки Deep Lake. Однако они не поддерживают пользовательскую выборку или полностью случайную перетасовку, которая возможна с помощью наборов данных Pitch datasets + загрузчиков данных.\n",
    "- Наборы данных Pytorch + загрузчики данных. Обеспечивают всю настраиваемость, поддерживаемую Pitch. Однако они имеют крайне неоптимальную потоковую передачу с использованием наборов данных Deep Lake и могут привести к снижению производительности в 5 раз по сравнению с использованием загрузчиков данных Deep Lake."
   ]
  },
  {
   "cell_type": "code",
   "execution_count": null,
   "id": "0547946f",
   "metadata": {},
   "outputs": [],
   "source": []
  },
  {
   "cell_type": "markdown",
   "id": "0a8c5e44",
   "metadata": {},
   "source": [
    "### DeepLake DataLoaders"
   ]
  },
  {
   "cell_type": "code",
   "execution_count": null,
   "id": "d897e1af",
   "metadata": {},
   "outputs": [],
   "source": []
  },
  {
   "cell_type": "markdown",
   "id": "467bcac9",
   "metadata": {},
   "source": [
    "### PyTorch Datasets + DataLoaders"
   ]
  },
  {
   "cell_type": "code",
   "execution_count": null,
   "id": "15864171",
   "metadata": {},
   "outputs": [],
   "source": []
  },
  {
   "cell_type": "markdown",
   "id": "147e8c5c",
   "metadata": {},
   "source": [
    "### Итерация и обучение"
   ]
  },
  {
   "cell_type": "code",
   "execution_count": null,
   "id": "5b1c7c52",
   "metadata": {},
   "outputs": [],
   "source": []
  },
  {
   "cell_type": "code",
   "execution_count": null,
   "id": "fc336dd0",
   "metadata": {},
   "outputs": [],
   "source": []
  }
 ],
 "metadata": {
  "kernelspec": {
   "display_name": "Python 3 (ipykernel)",
   "language": "python",
   "name": "python3"
  },
  "language_info": {
   "codemirror_mode": {
    "name": "ipython",
    "version": 3
   },
   "file_extension": ".py",
   "mimetype": "text/x-python",
   "name": "python",
   "nbconvert_exporter": "python",
   "pygments_lexer": "ipython3",
   "version": "3.9.13"
  }
 },
 "nbformat": 4,
 "nbformat_minor": 5
}
